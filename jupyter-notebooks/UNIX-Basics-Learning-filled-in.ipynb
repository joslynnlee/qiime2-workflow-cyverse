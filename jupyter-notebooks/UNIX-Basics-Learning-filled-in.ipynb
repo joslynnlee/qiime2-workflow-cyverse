{
 "cells": [
  {
   "cell_type": "markdown",
   "metadata": {},
   "source": [
    "#### Let's get started:\n",
    "\n",
    "STEP 1: MAKE A COPY OF THIS NOTEBOOK AND BEGIN WORKING IN THAT NOTEBOOK\n",
    "\n",
    "STEP 2: Double-click to get into editing mode. FILL OUT THE FOLLOWING INFORMATION\n",
    "\n",
    "**_User(s)_**: enter your name(s) here\n",
    "\n",
    "**_Date_**: enter the date here\n",
    "\n",
    "**_Description_**: This notebook is to learn and practice UNIX commands. This will be useful when we run the bioinformatics tool: QIIME 2."
   ]
  },
  {
   "cell_type": "markdown",
   "metadata": {},
   "source": [
    "## Introducing the Shell\n",
    "\n",
    "*Lesson adapted from [\"The Carpentries The UNIX Shell\"](https://swcarpentry.github.io/shell-novice/)*\n",
    "*Download shell-lesson-data.zip and move the file to your Desktop.*\n",
    "\n",
    "\n",
    "**Objectives**\n",
    "\n",
    "- What is a command shell and why should we use one?\n",
    "- Learn how to explain how the shell relates to the keyboard, screen, the operative system and programs.\n",
    "- Learn why command-line interfaces are used verses graphical interfaces."
   ]
  },
  {
   "cell_type": "markdown",
   "metadata": {},
   "source": [
    "### Background\n",
    "\n",
    "Computers do four things:\n",
    "- run programs\n",
    "- store data\n",
    "- communicate with each other, and\n",
    "- interact with us\n",
    "\n",
    "Computers \"interact with us\" in many different ways. Can you name a few?\n",
    "\n",
    "We use hardware interfaces like the keyboard, mouse, touch screen interfaces, or speech recognition using systems. Think of how these interfaces allow us to click selections of menus and drag-and-drop. \n",
    "\n",
    "Although most modern desktop operating systems (OS) communicate with their human users by means of windows, icons and pointers, these software technologies didn’t become widespread until the 1980s. What did we do beforehand?\n",
    "\n",
    "#### The Command-Line Interface\n",
    "\n",
    "This kind of interface is called a command-line interface, or CLI, to distinguish it from a graphical user interface, or GUI (pronounced: goo-ey), which most people now use. \n",
    "\n",
    "The heart of a CLI is a **read-**e**valuate-**p**rint **l**oop, or **REPL**. When the user types a command and then presses the `Enter` (or `Return`) key, the computer reads it, executes it, and prints its output. The user then types another command, and so on until the user logs off.\n",
    "\n",
    "#### The Shell\n",
    "\n",
    "The REPL description makes it sound as though the user sends commands directly to the computer, and the computer sends output directly to the user. \n",
    "\n",
    "In fact, there is usually a program in between called a command shell. What the user types goes into the shell, which then figures out what commands to run and orders the computer to execute them. \n",
    "\n",
    "**Note** that the command shell is called “the shell” because it encloses the operating system in order to hide some of its complexity and make it simpler to interact with.\n",
    "\n",
    "A shell is a computer program like any other. What’s special about it is that its job is to run other programs rather than to do calculations itself. The most popular shell is Bash, the Bourne Again SHell (so-called because it’s derived from a shell written by Stephen Bourne). Bash is the default shell on most modern implementations of Unix and in most packages that provide Unix-like tools for Windows."
   ]
  },
  {
   "cell_type": "code",
   "execution_count": null,
   "metadata": {},
   "outputs": [],
   "source": [
    "echo $SHELL"
   ]
  },
  {
   "cell_type": "markdown",
   "metadata": {},
   "source": [
    "#### Why should you learn to use the shell?\n",
    "\n",
    "- Many bioinformatics tools can only be used through a command line interface, or have extra capabilities in the command line version that are not available in the GUI.\n",
    "\n",
    "- In bioinformatics, you often need to do the same set of tasks with a large number of files. Learning to automate those repetitive tasks in a less error-prone. When humans do the same thing a hundred different times (or even ten times), they’re likely to make a mistake. Your computer can do the same thing a thousand times with no mistakes.\n",
    "\n",
    "- When you carry out your work in the command-line (rather than a GUI), your computer keeps a record of every step that you’ve carried out, which you can use to re-do your work when you need to.\n",
    "\n",
    "- Many bioinformatic tasks require large amounts of computing power and **can’t realistically** be run on your own machine. These tasks are best performed using remote computers or cloud computing, which can only be accessed through a shell.\n",
    "\n",
    "This is a nice place to start and then move into other languages like python or R."
   ]
  },
  {
   "cell_type": "markdown",
   "metadata": {},
   "source": [
    "### Navigating Files and Directories\n",
    "\n",
    "#### Objectives\n",
    "- Explain the similarities and differences between a file and a directory.\n",
    "- Explain the steps in the shell’s read-run-print cycle.\n",
    "- Identify the actual command, flags, and filenames in a command-line call.\n",
    "- Demonstrate the use of tab completion, and explain its advantages.\n",
    "\n",
    "The part of the operating system responsible for managing files and directories is called the file system. It organizes our data into files, which hold information, and directories (also called “folders”), which hold files or other directories.\n",
    "\n",
    "#### Getting Started\n",
    "\n",
    "Type the command `whoami`, then press `SHIFT-ENTER` to send the command to the shell. The command’s output is the ID of the current user, i.e., it shows us who the shell thinks we are (CyVerse username):"
   ]
  },
  {
   "cell_type": "code",
   "execution_count": null,
   "metadata": {},
   "outputs": [],
   "source": [
    "whoami"
   ]
  },
  {
   "cell_type": "markdown",
   "metadata": {},
   "source": [
    "More specifically, when we type `whoami` the shell:\n",
    "\n",
    "1. finds a program called `whoami`,\n",
    "2. runs that program,\n",
    "3. displays that program’s output, then\n",
    "4. displays a new prompt to tell us that it’s ready for more commands.\n",
    "\n",
    "Next, let’s find out where we are by running a command called `pwd` (which stands for `print working directory`):"
   ]
  },
  {
   "cell_type": "code",
   "execution_count": null,
   "metadata": {},
   "outputs": [],
   "source": [
    "pwd"
   ]
  },
  {
   "cell_type": "markdown",
   "metadata": {},
   "source": [
    "At any moment, our current working directory is our current default directory, i.e., the directory that the computer assumes we want to run commands in unless we explicitly specify something else. For CyVerse, it will print `/home/cyversename`.\n",
    "\n",
    "To understand what a “home directory” is, let’s have a look at how the file system as a whole is organized. \n",
    "\n",
    "**For the sake of this example, we’ll be illustrating the filesystem on *Nelle's* computer.** \n",
    "\n",
    "After this illustration, you’ll be learning commands to explore your own filesystem, which will be constructed in a similar way, *but not be exactly identical*.\n",
    "\n",
    "On Nelle's computer, the filesystem looks like this:\n",
    "\n",
    "![alt text](http://swcarpentry.github.io/shell-novice/fig/filesystem.svg \"Logo Title Text 1\")\n",
    "\n",
    "At the top is the root directory that holds everything else. We refer to it using a slash character `/` on its own; this is the leading slash in `/Users/nelle`.\n",
    "\n",
    "Inside that directory are several other directories: \n",
    "- `bin` (which is where some built-in programs are stored)\n",
    "- `data` (for miscellaneous data files)\n",
    "- `Users` (where users’ personal directories are located)\n",
    "- `tmp` (for temporary files that don’t need to be stored long-term)\n",
    "\n",
    "`nelle` has an account on her machine. He current working directory would be stored inside `/Users`. This is because `/Users/nelle` is the first part of its name. Similarly, we know that `/Users` is stored inside the root directory `/` because its name begins with `/`.\n",
    "\n",
    "In this example directory below, underneath `/Users`, we find one directory for each user with an account on Nelle's machine.\n",
    "\n",
    "![alt text](http://swcarpentry.github.io/shell-novice/fig/home-directories.svg \"Logo Title Text 1\")\n",
    "\n",
    "**PRACTICE:** Who are the two other users?\n",
    "\n",
    "> Chat with the person next to you and explain your result. Use the file system to explain the result.\n",
    "\n",
    "---------\n",
    "**ANSWER: **\n",
    "Nelle's colleagues have files stored in the `/Users/inhotep` and `/Users/larry`. Typically, when you open a new command prompt you will be in your home directory to start."
   ]
  },
  {
   "cell_type": "markdown",
   "metadata": {},
   "source": [
    "## Commands\n",
    "Now let’s learn the command that will let us see the contents of our own filesystem. We can see what’s in our home directory by running `ls`, which stands for “listing”:"
   ]
  },
  {
   "cell_type": "code",
   "execution_count": null,
   "metadata": {},
   "outputs": [],
   "source": [
    "ls"
   ]
  },
  {
   "cell_type": "markdown",
   "metadata": {},
   "source": [
    "*(Again, when out of the CyVerse image, results may be slightly different depending on your operating system and how you have customized your filesystem.)*\n",
    "\n",
    "`ls` prints the names of the files and directories in the current directory in alphabetical order, arranged neatly into columns. \n",
    "\n",
    "\n",
    "We can make its output more comprehensible by using the **flag** `-F` (also known as a switch or an option) , which tells ls to add a trailing `/` to the names of directories:"
   ]
  },
  {
   "cell_type": "code",
   "execution_count": null,
   "metadata": {},
   "outputs": [],
   "source": [
    "ls -F"
   ]
  },
  {
   "cell_type": "markdown",
   "metadata": {},
   "source": [
    "**ACTION:** Put your GREEN STICKY UP WHEN DONE.\n",
    "\n",
    "Commands can be run alone. When using flags, they need to come after the command and before the input.\n",
    "\n",
    "`ls` has lots of other flags. To find out what the possible, we use the `--help` flag.\n",
    "\n",
    "### Getting help\n",
    "\n",
    "Many commands and programs that people have written (that can be run from within bash) support the `--help` flag to display more information on how to use the command or program.\n",
    "\n",
    "By entering the `--help` flag to the command `ls` below:"
   ]
  },
  {
   "cell_type": "code",
   "execution_count": null,
   "metadata": {},
   "outputs": [],
   "source": [
    "ls --help"
   ]
  },
  {
   "cell_type": "markdown",
   "metadata": {},
   "source": [
    "**QUESTION:** We can read the manual of the command `ls` by using the `man` command. Does `ls` come first or does `man` come first? \n",
    "\n",
    "> Note: Discuss with partner and try both! Was there an error?"
   ]
  },
  {
   "cell_type": "code",
   "execution_count": null,
   "metadata": {},
   "outputs": [],
   "source": [
    "ls man"
   ]
  },
  {
   "cell_type": "code",
   "execution_count": null,
   "metadata": {},
   "outputs": [],
   "source": [
    "man ls"
   ]
  },
  {
   "cell_type": "markdown",
   "metadata": {},
   "source": [
    "**QUESTION:** What is `ls msn` doing?\n",
    "\n",
    "*HINT - look up the usage of `ls`.*"
   ]
  },
  {
   "cell_type": "markdown",
   "metadata": {},
   "source": [
    "### Exploring Flags\n",
    "\n",
    "*Listing Recursively and By Time*\n",
    "\n",
    "Type `ls -R` in the code cell below. \n",
    "\n",
    "The `ls` command with the flag `-R` lists the contents of directories recursively, i.e., lists their sub-directories, sub-sub-directories, and so on in alphabetical order at each level."
   ]
  },
  {
   "cell_type": "code",
   "execution_count": null,
   "metadata": {},
   "outputs": [],
   "source": [
    "ls -R"
   ]
  },
  {
   "cell_type": "markdown",
   "metadata": {},
   "source": [
    "**PRACTICE:** Draw the directory structure (ignore files) that explains this output. Chat with your neighbor!"
   ]
  },
  {
   "cell_type": "markdown",
   "metadata": {},
   "source": [
    "Type `ls -t` in the code cell below. \n",
    "\n",
    "The `ls` command with the flag `-t` lists things by time of last change, with most recently changed files or directories first."
   ]
  },
  {
   "cell_type": "code",
   "execution_count": null,
   "metadata": {},
   "outputs": [],
   "source": [
    "ls -t"
   ]
  },
  {
   "cell_type": "markdown",
   "metadata": {},
   "source": [
    "Compare this output to the `ls -R`.\n",
    "\n",
    "Now type `ls -R -t -l`. The `ls` command combines the different flags `-R`, `-t` and `-l`. This order will list the contents of the directories (`-R`) by the time of the last change (`-t`), the most recently changed files first, along with long-listing format (`-l`) to view timestamps (`-h`) in a human-readable format."
   ]
  },
  {
   "cell_type": "code",
   "execution_count": null,
   "metadata": {},
   "outputs": [],
   "source": [
    "ls -R -t -l -h"
   ]
  },
  {
   "cell_type": "markdown",
   "metadata": {},
   "source": [
    "Using these ways of listing contents is helpful to check output files without clicking open so many windows, you can view the size of the files. Lots of information with a few keystrokes.\n",
    "\n",
    "From the output above, in the home directory it contains sub-directories. There is another directory called `data`. Earlier we used the `ls` command with `F` flag to view directories. Below, type `ls data`, it will list the contents in the `\n",
    "data` directory."
   ]
  },
  {
   "cell_type": "code",
   "execution_count": null,
   "metadata": {},
   "outputs": [],
   "source": [
    "ls data"
   ]
  },
  {
   "cell_type": "markdown",
   "metadata": {},
   "source": [
    "Using the `ls` to view inside other directories is helpful. We can use the same strategy to change our location to a different directory so we move out of home."
   ]
  },
  {
   "cell_type": "markdown",
   "metadata": {},
   "source": [
    "### Changing Locations\n",
    "\n",
    "As you may now see, using a bash shell is strongly dependent on the idea that your files are organized in a hierarchical file system. Organizing things hierarchically in this way helps us keep track of our work: it’s possible to put hundreds of files in our home directory, just as it’s possible to pile hundreds of printed papers on our desk, but it’s a self-defeating strategy.\n",
    "\n",
    "\n",
    "We learned we can look at a directories contents by `ls`.\n",
    "\n",
    "**ACTION:** First let's look at our current working directory. Type `pwd`:"
   ]
  },
  {
   "cell_type": "code",
   "execution_count": null,
   "metadata": {},
   "outputs": [],
   "source": [
    "pwd"
   ]
  },
  {
   "cell_type": "markdown",
   "metadata": {},
   "source": [
    "Here we will play with the command to change locations, `cd` followed by a `directory name` to change our working directory. `cd` stands for “change directory\", which is a bit misleading: the command doesn’t change the directory, it changes the shell’s idea of what directory we are in.\n",
    "\n",
    "We’ll start with the simplest.\n",
    "\n",
    "There is a shortcut in the shell to move up one directory level that looks like this:"
   ]
  },
  {
   "cell_type": "code",
   "execution_count": null,
   "metadata": {},
   "outputs": [],
   "source": [
    "cd .."
   ]
  },
  {
   "cell_type": "markdown",
   "metadata": {},
   "source": [
    "'`..`' is a special directory name meaning “the directory containing this one”, or more succinctly, the parent of the current directory. Sure enough, if we run `pwd` after running `cd ..`,"
   ]
  },
  {
   "cell_type": "code",
   "execution_count": null,
   "metadata": {},
   "outputs": [],
   "source": [
    "pwd"
   ]
  },
  {
   "cell_type": "markdown",
   "metadata": {},
   "source": [
    "*Hint - look at drawing you made previously. This will help visualize and navigating your directory structure on the virtual machine.*\n",
    "\n",
    "You've learned the basic commands for navigating the filesystem on your computer: `pwd`, `ls` and `cd`. \n",
    "\n",
    "Let’s explore some variations on those commands. What happens if you type `cd` on its own or now flags, without giving a directory?"
   ]
  },
  {
   "cell_type": "code",
   "execution_count": null,
   "metadata": {},
   "outputs": [],
   "source": [
    "cd"
   ]
  },
  {
   "cell_type": "markdown",
   "metadata": {},
   "source": [
    "Type the command for `print current directory` below:"
   ]
  },
  {
   "cell_type": "code",
   "execution_count": null,
   "metadata": {},
   "outputs": [],
   "source": [
    "pwd"
   ]
  },
  {
   "cell_type": "markdown",
   "metadata": {},
   "source": [
    "It turns out that `cd` without an argument will return you to your home directory, which is great if you’ve gotten lost in your own filesystem."
   ]
  },
  {
   "cell_type": "markdown",
   "metadata": {},
   "source": [
    "Check that we’ve moved to the right place by running `pwd` and `ls -F`:"
   ]
  },
  {
   "cell_type": "code",
   "execution_count": null,
   "metadata": {},
   "outputs": [],
   "source": [
    "pwd"
   ]
  },
  {
   "cell_type": "code",
   "execution_count": null,
   "metadata": {},
   "outputs": [],
   "source": [
    "ls -F"
   ]
  },
  {
   "cell_type": "markdown",
   "metadata": {},
   "source": [
    "Another shortcut is the `-` (dash) character. `cd` will translate `-` into \"the previous directory I was in\", which is faster than having to remember, then type, the full path. This is a very efficient way of moving back and forth between directories. The difference between `cd ..` (two periods) and `cd -` is that the former brings you up, while the latter brings you back. You can think of it as the Last Channel button on a TV remote."
   ]
  },
  {
   "cell_type": "markdown",
   "metadata": {},
   "source": [
    "**PRACTICE:** Starting from `/Users/amanda/data/`, which of the following commands could Amanda use to navigate to her home directory, which is `/Users/amanda`?\n",
    "\n",
    "1. `cd /home/amanda`\n",
    "2. `cd ../..`\n",
    "3. `cd ~`\n",
    "4. `cd home`\n",
    "5. `cd`\n",
    "6. `cd ..`\n",
    "\n",
    "\n",
    "> Note: Use a paper to draw this out.\n",
    "> Try not to scroll down into the answers.\n",
    "> Discuss with your peers which works and doesn't work.\n",
    ">\n",
    "\n",
    "-------------------------------\n",
    "**ANSWERS** Be careful scrolling down for answers.\n",
    "\n",
    "1. No: Amanda’s home directory is `/Users/amanda`.\n",
    "2. No: this goes up two levels, i.e. ends in `/Users`.\n",
    "3. Yes: `~` stands for the user’s home directory, in this case `/Users/amanda`.\n",
    "4. No: this would navigate into a directory home in the current directory if it exists.\n",
    "5. Yes: shortcut to go back to the user’s home directory.\n",
    "6. Yes: goes up one level."
   ]
  },
  {
   "cell_type": "markdown",
   "metadata": {},
   "source": [
    "### Make a new directory\n",
    "\n",
    "Let’s create a new directory called `UNIX-test` using the command `mkdir UNIX-test` (which has no output)."
   ]
  },
  {
   "cell_type": "code",
   "execution_count": null,
   "metadata": {},
   "outputs": [],
   "source": []
  },
  {
   "cell_type": "markdown",
   "metadata": {},
   "source": [
    "As you might guess from its name, `mkdir` means “make directory”. Since thesis is a relative path (i.e., doesn’t have a leading slash), the new directory is created in the current working directory, type `ls`:"
   ]
  },
  {
   "cell_type": "code",
   "execution_count": null,
   "metadata": {},
   "outputs": [],
   "source": []
  },
  {
   "cell_type": "markdown",
   "metadata": {},
   "source": [
    "Make a new directory called `UNIX-test-2` using `mkdir` but with the flag `-v`. What happens?"
   ]
  },
  {
   "cell_type": "code",
   "execution_count": null,
   "metadata": {},
   "outputs": [],
   "source": []
  },
  {
   "cell_type": "markdown",
   "metadata": {},
   "source": [
    "### Good names for files and directories\n",
    "\n",
    "Complicated names of files and directories can make your life painful when working on the command line. Here we provide a few useful tips for the names of your files.\n",
    "\n",
    "> Don’t use whitespaces. \n",
    ">\n",
    "> EXAMPLE: `JL water sample ID list copy12.txt`\n",
    ">\n",
    "> Whitespaces can make a name more meaningful but since whitespace is used to break arguments on the command line is better to avoid them in names of files and directories. You can use `-` (dash) or `_` (underscore) instead of whitespace.\n",
    ">\n",
    "> EXAMPLE: `JL-water-sample-ID-list-copy12.txt`\n",
    ">\n",
    "> Don’t begin the name with `-` (dash).\n",
    "> Commands treat names starting with `-` as options.\n",
    "> Stick with letters, numbers, `.` (period), `-` (dash) and `_` (underscore).\n",
    ">\n",
    "> Many other characters have special meanings on the command line. We will learn about some of these during this lesson. There are special characters that can cause your command to not work as expected and can even result in data loss.\n",
    ">\n",
    ">If you need to refer to names of files or directories that have whitespace or another non-alphanumeric character, you should surround the name in quotes (\"\").\n",
    "\n",
    "**Renaming files and directories**\n",
    "\n",
    "Here is a directory called `thesis` and within the directory a file named `draft.txt`. In the code cell below, at the end of \"e\" hit the `tab` key. This will give you options to `autocomplete` the file or directory name. Use the arrow keys to highlight `thesis`. Press enter, it will `autocomplete`.\n",
    "\n"
   ]
  },
  {
   "cell_type": "code",
   "execution_count": null,
   "metadata": {},
   "outputs": [],
   "source": [
    "ls thesis"
   ]
  },
  {
   "cell_type": "markdown",
   "metadata": {},
   "source": [
    "`draft.txt` isn’t a particularly informative name, so let’s change the file’s name using `mv`, which is short for “move”. To understand how the `mv` command works, type `mv man` to learn how to use the command."
   ]
  },
  {
   "cell_type": "code",
   "execution_count": null,
   "metadata": {},
   "outputs": [],
   "source": [
    "mv man"
   ]
  },
  {
   "cell_type": "markdown",
   "metadata": {},
   "source": [
    "The usage of `mv` is:\n",
    "\n",
    "`mv source-to-move target-directory` \n",
    "\n",
    "`-f` overwrite destination file\n",
    "\n",
    "`-v` verbose, print source and destination files\n",
    "\n",
    "Type: \n",
    "\n",
    "```\n",
    "mv -v thesis/draft.txt thesis/quotes.txt\n",
    "```"
   ]
  },
  {
   "cell_type": "code",
   "execution_count": null,
   "metadata": {},
   "outputs": [],
   "source": [
    "mv -v thesis/draft.txt thesis/quotes.txt"
   ]
  },
  {
   "cell_type": "markdown",
   "metadata": {},
   "source": [
    "The first argument tells mv what we’re “moving”, while the second is where it’s to go. In this case, we’re moving `thesis/draft.txt` to `thesis/quotes.txt`, which has the same effect as renaming the file. Sure enough, `ls` shows us that thesis now contains one file called `quotes.txt`:"
   ]
  },
  {
   "cell_type": "code",
   "execution_count": null,
   "metadata": {},
   "outputs": [],
   "source": [
    "ls thesis"
   ]
  },
  {
   "cell_type": "markdown",
   "metadata": {},
   "source": [
    "Sure enough, `ls thesis` shows us that thesis now contains one file called `quotes.txt`.\n",
    "\n",
    "Let’s move `quotes.txt` into the current working directory. We use `mv` once again, but this time we’ll just use the name of a directory as the second argument to tell `mv` that we want to keep the filename, but put the file somewhere new. (This is why the command is called “move”.) In this case, the directory name we use is the special directory name `.` that we mentioned earlier.\n",
    "\n",
    "Type:\n",
    "```\n",
    "mv thesis/quotes.txt .\n",
    "```"
   ]
  },
  {
   "cell_type": "code",
   "execution_count": null,
   "metadata": {},
   "outputs": [],
   "source": [
    "mv thesis/quotes.txt ."
   ]
  },
  {
   "cell_type": "markdown",
   "metadata": {},
   "source": [
    "The effect is to move the file from the directory it was in to the current working directory. Use `ls` to show that `thesis` is empty:"
   ]
  },
  {
   "cell_type": "code",
   "execution_count": null,
   "metadata": {},
   "outputs": [],
   "source": [
    "ls thesis"
   ]
  },
  {
   "cell_type": "markdown",
   "metadata": {},
   "source": [
    "Further, `ls` with a filename or directory name as an argument only lists that file or directory. We can use this to see that `quotes.txt` is still in our current directory:"
   ]
  },
  {
   "cell_type": "code",
   "execution_count": null,
   "metadata": {},
   "outputs": [],
   "source": [
    "ls"
   ]
  },
  {
   "cell_type": "markdown",
   "metadata": {},
   "source": [
    "**PRACTICE:** After running the following commands, Jamie realizes that she put the files `sucrose.dat` and `maltose.dat` into the wrong directory:\n",
    "\n",
    "```\n",
    "$ ls -F\n",
    " analyzed/ raw/\n",
    "$ ls -F analyzed\n",
    "fructose.dat glucose.dat maltose.dat sucrose.dat\n",
    "$ cd raw/\n",
    "```\n",
    "Fill in the blanks to move these files to the current directory (i.e., the one she is currently in):\n",
    "\n",
    "```\n",
    "$ mv ___/sucrose.dat  ___/maltose.dat ___\n",
    "\n",
    "```\n",
    "\n",
    "> Note: Draw this out again.\n",
    "> Check with the person next to you.\n",
    "> Think about how this working on a graphical user interface (GUI).\n",
    "\n",
    "--------\n",
    "**ANSWER:** \n",
    "\n",
    "- The first command lists `ls -F` in the current working directory the two available directories: `analyzed/` and `raw/`. The `-F` flag lists all directories with the `/`.\n",
    "- The second command lists the contents in the `analyzed/` directory. The output lists four files, including the two `sucrose.dat` and `maltose.dat`.\n",
    "- The third command `cd raw/` changes to the directory `raw/`. \n",
    "- To move the files from `analyzed` to `raw` (current directory), Jamie will need to use the `mv` command. The `..` is one directory above the current directory and `.` refers to the current directory. Thus:\n",
    "\n",
    "`$ mv ../analyzed/sucrose.dat ../analyzed/maltose.dat .`"
   ]
  },
  {
   "cell_type": "markdown",
   "metadata": {},
   "source": [
    "### Deleting is Forever\n",
    "\n",
    "The Unix shell doesn’t have a trash bin that we can recover deleted files from (though most graphical interfaces to Unix do). Instead, when we delete files, they are unhooked from the file system so that their storage space on disk can be recycled. Tools for finding and recovering deleted files do exist, but there’s no guarantee they’ll work in any particular situation, since the computer may recycle the file’s disk space right away.\n",
    "\n",
    "Type:\n",
    "```\n",
    "rm thesis\n",
    "```"
   ]
  },
  {
   "cell_type": "code",
   "execution_count": null,
   "metadata": {},
   "outputs": [],
   "source": []
  },
  {
   "cell_type": "markdown",
   "metadata": {},
   "source": [
    "This happens because `rm` by default only works on files, not directories.\n",
    "\n",
    "To really get rid of the directory `thesis` we must also delete the file `draft.txt`. We can do this with the recursive option `-r` for `rm`:"
   ]
  },
  {
   "cell_type": "code",
   "execution_count": null,
   "metadata": {},
   "outputs": [],
   "source": []
  },
  {
   "cell_type": "markdown",
   "metadata": {},
   "source": [
    "Check if the directory is removed from the current directory by using `ls`:"
   ]
  },
  {
   "cell_type": "code",
   "execution_count": null,
   "metadata": {},
   "outputs": [],
   "source": [
    "ls"
   ]
  },
  {
   "cell_type": "markdown",
   "metadata": {},
   "source": [
    "> Note: Removing the files in a directory recursively can be a very dangerous operation."
   ]
  },
  {
   "cell_type": "markdown",
   "metadata": {},
   "source": [
    "### Examining Files\n",
    "\n",
    "We now know how to switch directories, run programs, and look at the contents of directories, but how do we look at the contents of files?\n",
    "\n",
    "One way to examine a file is to print out all of the contents using the program `cat`.\n",
    "```\n",
    "Usage:\n",
    "cat [file]\n",
    "```\n",
    "In the code cell below, use `cat` to view `file-explanation.txt` in the `data` directory:"
   ]
  },
  {
   "cell_type": "code",
   "execution_count": null,
   "metadata": {},
   "outputs": [],
   "source": []
  },
  {
   "cell_type": "markdown",
   "metadata": {},
   "source": [
    "In the cell below, list all the contents within the directory `data`, we should see four files:"
   ]
  },
  {
   "cell_type": "code",
   "execution_count": null,
   "metadata": {},
   "outputs": [],
   "source": []
  },
  {
   "cell_type": "markdown",
   "metadata": {},
   "source": [
    "In the cell below, change into the `data` directory:"
   ]
  },
  {
   "cell_type": "code",
   "execution_count": null,
   "metadata": {},
   "outputs": [],
   "source": []
  },
  {
   "cell_type": "code",
   "execution_count": null,
   "metadata": {},
   "outputs": [],
   "source": []
  },
  {
   "cell_type": "markdown",
   "metadata": {},
   "source": [
    "In the code cell below, use the command `cat` to print out the contents of the `sequences.fasta` file.\n",
    "\n",
    "What is the last line of the file?"
   ]
  },
  {
   "cell_type": "code",
   "execution_count": null,
   "metadata": {},
   "outputs": [],
   "source": []
  },
  {
   "cell_type": "markdown",
   "metadata": {},
   "source": [
    "The last line from above is:\n",
    "```\n",
    ">2a06105f4e0e444f2777687683dddf1f\n",
    "```\n",
    "\n",
    "*That was a lot of scrolling.*\n",
    "\n",
    "Use the command `wc` output the word, line, character, and byte count. "
   ]
  },
  {
   "cell_type": "code",
   "execution_count": null,
   "metadata": {},
   "outputs": [],
   "source": [
    "wc sequences.fasta"
   ]
  },
  {
   "cell_type": "markdown",
   "metadata": {},
   "source": [
    "The displays the number of lines, words, and bytes contained in the input file. In the fasta file `sequences.fasta`, prints 66398 lines. If you divide the total 66398 by 2, it will results in the number 33,199 which is the number of sequences in this one fasta file.\n",
    "\n",
    "`cat` is a great program to use but when the file is really big, it can be annoying. The line above isn't actually the last line in the file. How can we check?\n",
    "\n",
    "There’s another way that we can look at files, and in this case, **just look at part of them**. This can be particularly useful if we just want to see the beginning or end of the file, or see how it’s formatted.\n",
    "\n",
    "The commands are `head` and `tail` and they let you look at the beginning and end of a file, respectively.\n",
    "\n",
    "In the code cell below, type:\n",
    "\n",
    "```\n",
    "head sequences.fasta\n",
    "```"
   ]
  },
  {
   "cell_type": "code",
   "execution_count": null,
   "metadata": {},
   "outputs": [],
   "source": [
    "head sequences.fasta"
   ]
  },
  {
   "cell_type": "markdown",
   "metadata": {},
   "source": [
    "`head` displays the first ten lines of its input. Above is a `fasta` [file format](https://blast.ncbi.nlm.nih.gov/Blast.cgi?CMD=Web&PAGE_TYPE=BlastDocs&DOC_TYPE=BlastHelp). The first line is called the description line:\n",
    "\n",
    "```\n",
    ">d2b972a835b4b341cf74a3e05bfa5fce\n",
    "```\n",
    "The description line (defline) is distinguished from the sequence data by a greater-than (\">\") symbol at the beginning. This is a QIIME feature ID number. This will make more sense in the tutorial `Exploring A Microbiome Workflow\".\n",
    "\n",
    "The second line is the nucleotide sequence data:\n",
    "```\n",
    "TACGTAGGGTGCGAGCGTTGTCCGGAATTATTGGGCGTAAAGGGCTTGTAGGCGGTTTGTCGCGTCTGCCGTGAAATCCTCTGGCTTAACTGGGGGCGTGCGGTGGGTACGGGCAGGCTTGAGTGCGGTAGGGGAGACTGGAACTCCTGGTGTAGCGGTGGAATGCGCAGATATCAGGAAGAACACCGGTGGCGAAGGCGGGTCTCTGGGCCGTTACTGACGCTG\n",
    "```\n",
    "The single nucleotide code, (A) - Adenine; (C) - Cytosine; (T) - Thymine; (G) - Guanine. \n",
    "\n",
    "In the code call below, type:\n",
    "\n",
    "```\n",
    "tail sequences.fasta\n",
    "```"
   ]
  },
  {
   "cell_type": "code",
   "execution_count": null,
   "metadata": {},
   "outputs": [],
   "source": [
    "tail sequences.fasta"
   ]
  },
  {
   "cell_type": "markdown",
   "metadata": {},
   "source": [
    "`tail` displays the last few lines of its input.\n",
    "\n",
    "The `-n` option to either of these commands can be used to print the first or last `n` lines of a file."
   ]
  },
  {
   "cell_type": "code",
   "execution_count": null,
   "metadata": {},
   "outputs": [],
   "source": [
    "head -n 1 sequences.fasta"
   ]
  },
  {
   "cell_type": "code",
   "execution_count": null,
   "metadata": {
    "scrolled": true
   },
   "outputs": [],
   "source": [
    "tail -n 1 sequences.fasta"
   ]
  },
  {
   "cell_type": "markdown",
   "metadata": {},
   "source": [
    "The vertical bar, `|`, between the two commands is called a `pipe`. Hold down the shift key while pressing the `pipe` key `|` (located above the `return` key). It tells the shell that we want to use the output of the command on the left as the input to the command on the right. The computer might create a temporary file if it needs to, or copy data from one program to the other in memory, or something else entirely; we don’t have to know or care.\n",
    "\n",
    "In the code cell below, print the top 4 lines using `head` and the last 6 lines `tail` using `pipe` which is above the `return key` `|`:"
   ]
  },
  {
   "cell_type": "code",
   "execution_count": null,
   "metadata": {},
   "outputs": [],
   "source": [
    "head -n 6 sequences.fasta | tail -n 2"
   ]
  },
  {
   "cell_type": "markdown",
   "metadata": {},
   "source": [
    "From the first command, print the 6 lines at the top of the file `sequences.fasta`:\n",
    "````\n",
    "line 1: feature ID 1\n",
    "line 2: sequence feature ID 1\n",
    "line 3: feature ID 2\n",
    "line 4: sequence feature ID 2\n",
    "line 5: feature ID 3\n",
    "line 6: sequence feature ID 3\n",
    "```\n",
    "Using pipe, the output will go through the second command to print the 2 lines from the output:\n",
    "```\n",
    "line 5: feature ID 3\n",
    "line 6: sequence feature ID 3\n",
    "```\n",
    "\n",
    "**PRACTICE** How would you only print out the 23rd feature ID + sequence ? Hint: use `head` and `tail`."
   ]
  },
  {
   "cell_type": "code",
   "execution_count": null,
   "metadata": {},
   "outputs": [],
   "source": []
  },
  {
   "cell_type": "markdown",
   "metadata": {},
   "source": [
    "> Note: \n",
    "> This may require some math to calculate. Especially is this is the first time looking at FASTA files.\n",
    "> Consider how various programs are written to select only a few lines.\n",
    "> Discuss with your peers before moving into the answers.\n",
    "\n",
    "\n",
    "**ANSWER**:\n",
    "\n",
    "1. Determine the line location that the feature ID starts.\n",
    "```\n",
    "line 1: feature ID 1\n",
    "line 2: sequence feature ID 1\n",
    "...\n",
    "line 10: feature ID 5\n",
    "line 11: sequence feature ID 5\n",
    "...\n",
    "line 40: feature ID 20\n",
    "line 41: sequence feature ID 20\n",
    "...\n",
    "line 43: feature ID 23\n",
    "line 44: sequence feature ID 23\n",
    "```\n",
    "2. From the top of the file, use the `head` command to print out to line 44. Remember you want both the feature ID and sequence.\n",
    "```\n",
    "head -n 44\n",
    "```\n",
    "3. From the output of the head command, you want the last two lines of that output.\n",
    "```\n",
    "tail -n\n",
    "```\n",
    "3. Combine the two with the `|`.\n",
    "\n",
    "4. Answer:\n",
    "```\n",
    ">c6bff886449e4fccdb66ecf1c3f0567f\n",
    "TACGGGGGGGGCAAGCGTTGTTCGGAATTACTGGGCGTAAAGGGTTCGTAGGTGGCTTGCTAAGTCAGACGTGAAATCCCTCAGCTTAACTGGGGAACTGCGTCTGAGACTGGCCGGCTTGAGTGCAGGAGAGGAACGCGGAATTCCAGGTGTAGCGGTGAAATGCGTAGATATCTGGAGGAACACCGGTGGCGAAGGCGGCGTTCTGGACTGCAACTGACACTG\n",
    "```"
   ]
  },
  {
   "cell_type": "markdown",
   "metadata": {},
   "source": [
    "### Combine existing commands\n",
    "\n",
    "If there is more time, check out the next exercise below!\n",
    "\n",
    "\n",
    "Now that we know a few basic commands, we can finally look at the shell’s most powerful feature: the ease with which it lets us combine existing programs in new ways.\n",
    "\n",
    "We’ll start with a directory called `molecules` that contains six files describing some simple organic molecules. The `.pdb` extension indicates that these files are in Protein Data Bank format, a simple text format that specifies the type and position of each atom in the molecule.\n",
    "\n",
    "In the code cell below, print working directory and navigate to the directory above `molecules`:"
   ]
  },
  {
   "cell_type": "code",
   "execution_count": null,
   "metadata": {},
   "outputs": [],
   "source": [
    "cd"
   ]
  },
  {
   "cell_type": "code",
   "execution_count": null,
   "metadata": {},
   "outputs": [],
   "source": [
    "pwd"
   ]
  },
  {
   "cell_type": "code",
   "execution_count": null,
   "metadata": {},
   "outputs": [],
   "source": [
    "ls -F"
   ]
  },
  {
   "cell_type": "markdown",
   "metadata": {},
   "source": [
    "Let’s go into that directory:"
   ]
  },
  {
   "cell_type": "code",
   "execution_count": null,
   "metadata": {},
   "outputs": [],
   "source": [
    "cd "
   ]
  },
  {
   "cell_type": "markdown",
   "metadata": {},
   "source": [
    "Run the command `wc *.pdb`. The `wildcard` `*` in `*.pdb` matches zero or more characters, so the shell turns `*.pdb` into a list of all `.pdb` files in the current directory:"
   ]
  },
  {
   "cell_type": "code",
   "execution_count": null,
   "metadata": {},
   "outputs": [],
   "source": [
    "wc *.pdb"
   ]
  },
  {
   "cell_type": "markdown",
   "metadata": {},
   "source": [
    "`*` is a `wildcard`. It matches zero or more characters, so `*.pdb` matches `ethane.pdb`, `propane.pdb`, and every file that ends with `.pdb`. On the other hand, `p*.pdb` only matches `pentane.pdb` and `propane.pdb`, because the `p` at the front only matches filenames that begin with the letter `p`.\n",
    "\n",
    "If we run `wc -l` instead of just `wc`, the output shows only the number of lines per file:"
   ]
  },
  {
   "cell_type": "code",
   "execution_count": null,
   "metadata": {},
   "outputs": [],
   "source": [
    "wc -l *.pdb"
   ]
  },
  {
   "cell_type": "markdown",
   "metadata": {},
   "source": [
    "Which of these files is shortest? It’s an easy question to answer when there are only six files, but what if there were 6000? Our first step toward a solution is to run the command:"
   ]
  },
  {
   "cell_type": "code",
   "execution_count": null,
   "metadata": {},
   "outputs": [],
   "source": [
    "wc -l *.pdb > lengths.txt"
   ]
  },
  {
   "cell_type": "markdown",
   "metadata": {},
   "source": [
    "The greater than symbol, `>`, tells the shell to redirect the command’s output to a file instead of printing it to the screen. (This is why there is no screen output: everything that `wc` would have printed has gone into the file `lengths.txt` instead.) The shell will create the file if it doesn’t exist. If the file exists, it will be silently overwritten, which may lead to data loss and thus requires some caution. `ls lengths.txt` confirms that the file exists:"
   ]
  },
  {
   "cell_type": "code",
   "execution_count": null,
   "metadata": {},
   "outputs": [],
   "source": [
    "ls lengths.txt"
   ]
  },
  {
   "cell_type": "markdown",
   "metadata": {},
   "source": [
    "We can now send the content of `lengths.txt` to the screen using `cat lengths.txt`. `cat` stands for “concatenate”: it prints the contents of files one after another. There’s only one file in this case, so cat just shows us what it contains:"
   ]
  },
  {
   "cell_type": "code",
   "execution_count": null,
   "metadata": {},
   "outputs": [],
   "source": [
    "cat lengths.txt"
   ]
  },
  {
   "cell_type": "code",
   "execution_count": null,
   "metadata": {},
   "outputs": [],
   "source": [
    "sort lengths.txt"
   ]
  },
  {
   "cell_type": "markdown",
   "metadata": {},
   "source": [
    "We will also use the `-n` flag to specify that the sort is numerical instead of alphabetical. This does not change the file; instead, it sends the sorted result to the screen:"
   ]
  },
  {
   "cell_type": "code",
   "execution_count": null,
   "metadata": {},
   "outputs": [],
   "source": [
    "sort -n lengths.txt"
   ]
  },
  {
   "cell_type": "markdown",
   "metadata": {},
   "source": [
    "We can put the sorted list of lines in another temporary file called `sorted-lengths.txt` by putting `> sorted-lengths.txt` after the command, just as we used `> lengths.txt` to put the output of `wc` into `lengths.txt`."
   ]
  },
  {
   "cell_type": "code",
   "execution_count": null,
   "metadata": {},
   "outputs": [],
   "source": [
    "sort -n lengths.txt > sorted-lengths.txt"
   ]
  },
  {
   "cell_type": "code",
   "execution_count": null,
   "metadata": {},
   "outputs": [],
   "source": [
    "ls"
   ]
  },
  {
   "cell_type": "markdown",
   "metadata": {},
   "source": [
    "Once we’ve done that, we can run another command called `head` to get the first few lines in `sorted-lengths.txt`:"
   ]
  },
  {
   "cell_type": "code",
   "execution_count": null,
   "metadata": {},
   "outputs": [],
   "source": [
    "head -n 1 sorted-lengths.txt"
   ]
  },
  {
   "cell_type": "markdown",
   "metadata": {},
   "source": [
    "Using `-n 1` with `head` tells it that we only want the first line of the file.\n",
    "\n",
    "Since `sorted-lengths.txt` contains the lengths of our files ordered from least to greatest, the output of head must be the file with the fewest lines."
   ]
  },
  {
   "cell_type": "markdown",
   "metadata": {},
   "source": [
    "\n",
    "It’s a very bad idea to try redirecting the output of a command that operates on a file to the same file. For example:\n",
    "```\n",
    "$ sort -n lengths.txt > lengths.txt\n",
    "```\n",
    "Doing something like this may give you incorrect results and/or delete the contents of `lengths.txt`."
   ]
  },
  {
   "cell_type": "markdown",
   "metadata": {},
   "source": [
    "We have already met the `head` command, which prints lines from the start of a file. `tail` is similar, but prints lines from the end of a file instead. A similar operator `>>` which works slightly differently than `>`. `>>` appends the string to the file if it already exists (i.e. when we run it for the second time).\n",
    "\n",
    "Consider the file  `cubane.pdb`."
   ]
  },
  {
   "cell_type": "code",
   "execution_count": null,
   "metadata": {},
   "outputs": [],
   "source": [
    "head -n 3 cubane.pdb > cubaneUP.txt"
   ]
  },
  {
   "cell_type": "markdown",
   "metadata": {},
   "source": [
    "Here, the top three lines of the file `cubane.pdb` are redirected to a new file named `cubaneUP.txt`. Look at the file `cubaneUP.txt` using `cat`:"
   ]
  },
  {
   "cell_type": "code",
   "execution_count": null,
   "metadata": {},
   "outputs": [],
   "source": [
    "cat cubaneUP.txt"
   ]
  },
  {
   "cell_type": "code",
   "execution_count": null,
   "metadata": {},
   "outputs": [],
   "source": [
    "tail -n 2 cubane.pdb >> cubaneUP.txt"
   ]
  },
  {
   "cell_type": "markdown",
   "metadata": {},
   "source": [
    "Here we take the last two lines of the file `cubane.pdb` and append that output to the file `cubaneUP.txt`. Use `cat` to see the first three lines are the same and two new lines are added. "
   ]
  },
  {
   "cell_type": "code",
   "execution_count": null,
   "metadata": {},
   "outputs": [],
   "source": [
    "cat cubaneUP.txt"
   ]
  },
  {
   "cell_type": "markdown",
   "metadata": {},
   "source": [
    "If you think this is confusing, you’re in good company: even once you understand what wc, sort, and head do, all those intermediate files make it hard to follow what’s going on. We can make it easier to understand by running sort and head together:"
   ]
  },
  {
   "cell_type": "code",
   "execution_count": null,
   "metadata": {},
   "outputs": [],
   "source": [
    "sort -n lengths.txt | head -n 1"
   ]
  },
  {
   "cell_type": "markdown",
   "metadata": {},
   "source": [
    "**PRACTICE:**\n",
    "In our current directory, we want to find the 3 files which have the least number of lines. Which command listed below would work?\n",
    "```\n",
    "1. wc -l * > sort -n > head -n 3\n",
    "2. wc -l * | sort -n | head -n 1-3\n",
    "3. wc -l * | head -n 3 | sort -n\n",
    "4. wc -l * | sort -n | head -n 3\n",
    "```\n",
    "-----------\n",
    "**ANSWER:**\n",
    "Option 4 is the solution. The pipe character `|` is used to feed the standard output from one process to the standard input of another. `>` is used to redirect standard output to a file. Try it in the data-shell/molecules directory!"
   ]
  },
  {
   "cell_type": "markdown",
   "metadata": {},
   "source": [
    "When do all these items become useful in our microbiome workflow? The program QIIME utilizes these types of sorting, filtering and organization to give a useable, human-readable output. You can begin to explore how these simple commands can be useful!"
   ]
  }
 ],
 "metadata": {
  "kernelspec": {
   "display_name": "Bash",
   "language": "bash",
   "name": "bash"
  },
  "language_info": {
   "codemirror_mode": "shell",
   "file_extension": ".sh",
   "mimetype": "text/x-sh",
   "name": "bash"
  }
 },
 "nbformat": 4,
 "nbformat_minor": 2
}
