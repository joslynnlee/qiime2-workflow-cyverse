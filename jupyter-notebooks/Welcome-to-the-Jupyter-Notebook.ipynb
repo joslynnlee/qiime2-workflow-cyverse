{
 "cells": [
  {
   "cell_type": "markdown",
   "metadata": {},
   "source": [
    "#### Let's get started:\n",
    "\n",
    "STEP 1: MAKE A COPY OF THIS NOTEBOOK AND BEGIN WORKING IN THAT NOTEBOOK\n",
    "\n",
    "STEP 2: Double-click to get into editing mode. FILL OUT THE FOLLOWING INFORMATION\n",
    "\n",
    "**_User(s)_**: _insert_name_\n",
    "\n",
    "**_Date_**: _insert_date_\n",
    "\n",
    "**_Description_**: This notebook is to practice using a Jupyter Notebook!"
   ]
  },
  {
   "cell_type": "markdown",
   "metadata": {
    "collapsed": true
   },
   "source": [
    "## Welcome to your first Jupyter Notebook!\n",
    "\n",
    "### Introduction\n",
    "\n",
    "The Jupyter Notebook is an **interactive** computing environment that enables users to author notebook documents that include: \n",
    "- code  \n",
    "- plots *(results)* \n",
    "- narrative text *(like above)*\n",
    "- images *(example diagrams)*\n",
    "- video\n",
    "\n",
    "The notebook moves from the terminal (console-base) to providing a web-based interface to capture the computational process of:\n",
    "- documenting\n",
    "- executing code \n",
    "- communicating the results\n",
    "\n",
    "Learn more at [Project Jupyter](http://jupyter.org/).\n",
    "\n",
    "### Why use a notebook like this?\n",
    "\n",
    "These Jupyter Notebooks provide a complete and self-contained **record of a computation** *(just like a wet-lab notebook)*. These notebooks support reproducible research by organizing and documenting the steps of a bioinformatics workflow. The notebooks let you work with code and see results. The notebooks can also be a teaching guide for running through an analysis.\n",
    "\n",
    "When you're first learning to run an analysis, you may forget why you chose a particular parameter or where a piece of code came from. These explanatory texts are helpful to one's future self when returning back to the analysis a few months downstream.\n",
    "\n",
    "Learn more about [reproducibility in Jupyter Notebooks](https://arxiv.org/abs/1810.08055)."
   ]
  },
  {
   "cell_type": "markdown",
   "metadata": {},
   "source": [
    "### Let's start from the top - What is this interface?\n",
    "\n",
    "In the internet browsers tab 'Home', we can see all items available to use on the virtual machine! Focusing on this window, we'll review this set-up:\n",
    "\n",
    "### Navigation Bar\n",
    "\n",
    "- At the top of this notebook is the name of the notebook:\n",
    "\n",
    "`01-Welcome-to-the-Jupyter-Notebook`\n",
    "\n",
    "> What is an .ipynb File?\n",
    "> Jupyter Notebook are in the `.ipynb` format. Each `.ipynb` file is a text file that describes the contents of your notebook in a format called JSON. Each cell and its contents, including image attachments that have been converted into strings of text. These notebooks can only be open by the Jupyter Notebook program.\n",
    "\n",
    "- Below the name is the menu bar\n",
    "\n",
    "`file | edit | view | insert | cell | kernel | widgets | help`\n",
    "\n",
    "(*we will come back to these*)\n",
    "\n",
    "- Below the menu bar is the tool bar\n",
    "\n",
    "`icon disk | icon plus | icon scissor | etc`\n",
    "\n",
    "(*hovering over these icons will show a description*)\n",
    "\n",
    "### What are these cells?\n",
    "\n",
    "Click on the cell below. Look at the type of cell in the pull down window below `Widgets`."
   ]
  },
  {
   "cell_type": "markdown",
   "metadata": {},
   "source": [
    "this is a markdown cell"
   ]
  },
  {
   "cell_type": "markdown",
   "metadata": {},
   "source": [
    "Click on the cell below. Look at the type of cell in the pull down window below `Widgets`."
   ]
  },
  {
   "cell_type": "code",
   "execution_count": null,
   "metadata": {},
   "outputs": [],
   "source": [
    "# This is a code cell"
   ]
  },
  {
   "cell_type": "markdown",
   "metadata": {},
   "source": [
    "*How can you tell the difference?*\n",
    "\n",
    "A Markdown cell contains text formatted using Markdown and displays its output in-place when it is run.\n",
    "\n",
    "A code cell contains code to be executed in the kernel and displays its output below\n",
    "\n",
    "- In the cell above, you will notice the:\n",
    "\n",
    "`In [ ]:`\n",
    "\n",
    "The “In” part of the label is simply short for “Input,” while the label number indicates when the cell was executed on the kernel — in this case the cell was executed first. This will fill in with a number indicating the code cell has been run.\n",
    "\n",
    "**Note:** Every cell starts off being a code cell.\n",
    "\n",
    "Click the code cell below. Then click on the 2nd icon [plus sign] in the tool bar. What happens?"
   ]
  },
  {
   "cell_type": "code",
   "execution_count": null,
   "metadata": {},
   "outputs": [],
   "source": []
  },
  {
   "cell_type": "markdown",
   "metadata": {},
   "source": [
    "Keyboard shortcuts exist too! \n",
    "\n",
    "- Press `A` or `B` to insert a new cell above or below the active cell.\n",
    "- Press `M` to transform the active cell to a Markdown cell.\n",
    "- Press `Y` will set the active cell to a code cell.\n",
    "- Press ENTER to change into `edit` mode."
   ]
  },
  {
   "cell_type": "markdown",
   "metadata": {},
   "source": [
    "Click on the code cell below. Then click on the 3rd icon [scissor] in the tool bar. What happens?"
   ]
  },
  {
   "cell_type": "code",
   "execution_count": null,
   "metadata": {},
   "outputs": [],
   "source": []
  },
  {
   "cell_type": "markdown",
   "metadata": {},
   "source": [
    "Keyboard shortcuts exist too! \n",
    "\n",
    "- Press `D` twice to delete. Be care of this!\n",
    "- Press `Z` to undo cell deletion."
   ]
  },
  {
   "cell_type": "markdown",
   "metadata": {},
   "source": [
    "**PRACTICE:** Add another code cell below. Use the arrow up icon to move that code cell above this cell."
   ]
  },
  {
   "cell_type": "code",
   "execution_count": null,
   "metadata": {},
   "outputs": [],
   "source": []
  },
  {
   "cell_type": "markdown",
   "metadata": {},
   "source": [
    "Let's begin to play with running a program!"
   ]
  },
  {
   "cell_type": "code",
   "execution_count": null,
   "metadata": {},
   "outputs": [],
   "source": [
    "#run this line below\n",
    "#press SHIFT + ENTER or press Ctrl + Enter.\n",
    "whoami\n",
    "#what appears below"
   ]
  },
  {
   "cell_type": "markdown",
   "metadata": {},
   "source": [
    "Notice how Jupyter signifies that the cell is currently running by changing its label to `In [*].`\n",
    "\n",
    "Run the cell again and the label will change to `In [2]` because now the cell was the second to be run on the kernel.\n",
    "\n",
    "In a bash operator, there are ready to use programs. The first one you've learned is `whoami`. This tells the current user. We'll come back to this...\n",
    "\n",
    "#### Congratulations, you've run your first program!\n",
    "\n",
    "Let's learn a little more about these interactive notebooks.\n",
    "\n",
    "In the `code` cell above, there are hashtags `#`. These are comment lines that whatever is types afterwards, the computer will skip."
   ]
  },
  {
   "cell_type": "markdown",
   "metadata": {},
   "source": [
    "## How does it work?\n",
    "\n",
    "### Components\n",
    "\n",
    "The Jupyter Notebook combines four components:\n",
    "1. Browser\n",
    "2. Kernels\n",
    "3. Notebook document\n",
    "4. User\n",
    "\n",
    "\n",
    "<img src=\"https://jupyter.readthedocs.io/en/latest/_images/notebook_components.png\" width=\"500\">\n",
    "\n",
    "\n",
    "- We log-in through a web browser to access the notebooks and run commands or scripts.\n",
    "\n",
    "- The notebook communicates to the notebook server which executes the commands or scripts on the Kernel. \n",
    "\n",
    "- A kernel is a “computational engine” that executes the code contained in a notebook document.\n",
    "\n",
    "- All the data we use and generate are stored on the system that supports the Kernel.\n",
    "\n",
    "- The kernal is located on CyVerse Atmosphere.\n",
    "\n",
    "**NOTE:**\n",
    "An open notebook has exactly one interactive session connected to a kernel, which will execute code sent by the user and communicate back results. This kernel remains active if the web browser window is closed, and reopening the same notebook from the dashboard will reconnect the web application to the same kernel. In the dashboard, notebooks with an active kernel have a Shutdown button next to them.\n",
    "\n",
    "The file system is part of the operating system of a computer that is responsible for managing files and directories. It organizes our data into files, which hold information, and directories (also called “folders”), which hold files or other directories. The filesystem is set-up a little different on the Jupyter Hub."
   ]
  },
  {
   "cell_type": "markdown",
   "metadata": {},
   "source": [
    "## What is Markdown?\n",
    "\n",
    "Jupyter Notebooks contain narrative text. On a Mac, select the Application --> Terminal. On a Windows with GitBash installed, start GitBash. This is the shell and we type in lines of command.\n",
    "\n",
    "Type `whoami`\n",
    "\n",
    "What do we get?\n",
    "\n",
    "Can we keep notes and save them?\n",
    "\n",
    "This is where Jupyter Notebook is useful. Jupyter Notebook utilizes Markdown, a text-to-HTML conversion tool for web writers. Markdown allows you to write using an easy-to-read, easy-to-write plain text format, then convert it to structurally valid XHTML (or HTML).\n",
    "\n",
    "Markdown allows us to document the computational process in a literate way, alternating descriptive text with code, using rich text (**bold**, *italics*, `in code`).\n",
    "\n",
    "### Let's play with a few examples!\n",
    "\n",
    "- headers\n",
    "- emphasis\n",
    "- links\n",
    "- images\n",
    "- code\n",
    "- block quotes\n",
    "- youtube videos\n",
    "\n",
    "### In the examples below, you will two duplicates. To view the Markdown code, double click the cell and compare to the output. To show the HTML format, hold SHIFT and press ENTER.\n",
    "\n",
    "## Headers\n",
    "\n",
    "To place a header, hashtags in `Markdown cell` will assign size. A single hashtag will be the largest and decrease in size with more hashtags. There must be a space between the last hashtag to the text belonging to the header. Reminder, hashtags in a `code cell` are comments."
   ]
  },
  {
   "cell_type": "markdown",
   "metadata": {},
   "source": [
    "# H1\n",
    "## H2\n",
    "### H3\n",
    "#### H4\n",
    "#### H5\n",
    "##### H6"
   ]
  },
  {
   "cell_type": "markdown",
   "metadata": {},
   "source": [
    "# H1\n",
    "## H2\n",
    "### H3\n",
    "#### H4\n",
    "#### H5\n",
    "##### H6"
   ]
  },
  {
   "cell_type": "markdown",
   "metadata": {},
   "source": [
    "In the Markdown cell below, practice making an example of headers below:"
   ]
  },
  {
   "cell_type": "markdown",
   "metadata": {},
   "source": [
    "# double-click here"
   ]
  },
  {
   "cell_type": "markdown",
   "metadata": {},
   "source": [
    "### Emphasis\n",
    "\n",
    "Emphasis, aka italics, with *asterisks* or _underscores_.\n",
    "\n",
    "Strong emphasis, aka bold, with **asterisks** or __underscores__.\n",
    "\n",
    "Combined emphasis with **_asterisks and underscores_**.\n",
    "\n",
    "Strikethrough uses two ~ tildes. ~~Scratch this.~~"
   ]
  },
  {
   "cell_type": "markdown",
   "metadata": {},
   "source": [
    "Emphasis, aka italics, with *asterisks* or _underscores_.\n",
    "\n",
    "Strong emphasis, aka bold, with **asterisks** or __underscores__.\n",
    "\n",
    "Combined emphasis with **_asterisks and underscores_**.\n",
    "\n",
    "Strikethrough uses two tildes. ~~Scratch this.~~\n"
   ]
  },
  {
   "cell_type": "markdown",
   "metadata": {},
   "source": [
    "Practice making an example below by typing a sentence including both *emphasis* and __strong emphasis__:"
   ]
  },
  {
   "cell_type": "markdown",
   "metadata": {},
   "source": [
    "#double-click here"
   ]
  },
  {
   "cell_type": "markdown",
   "metadata": {},
   "source": [
    "### Links\n",
    "\n",
    "To generate a clickable link, the text to link will need to be in a set of square brackets. Immediately following the web address in a set of parentheses:\n",
    "\n",
    "[I'm an inline-style link](https://www.google.com)\n",
    "\n",
    "Or leave it empty and use the link text itself [https://nanoporetech.com/]."
   ]
  },
  {
   "cell_type": "markdown",
   "metadata": {},
   "source": [
    "[I'm an inline-style link](https://www.google.com)\n",
    "\n",
    "Or leave it empty and use the link text itself [https://nanoporetech.com/].\n"
   ]
  },
  {
   "cell_type": "markdown",
   "metadata": {},
   "source": [
    "Practice making an example below by inserting a website link:"
   ]
  },
  {
   "cell_type": "markdown",
   "metadata": {},
   "source": [
    "#double-click here"
   ]
  },
  {
   "cell_type": "markdown",
   "metadata": {},
   "source": [
    "#double-click here and insert website address in the parentheses\n",
    "\n",
    "[LINK](insert_http)"
   ]
  },
  {
   "cell_type": "markdown",
   "metadata": {},
   "source": [
    "### Images\n",
    "\n",
    "An example for images is to this logo below. The logo .png file is hosted elsewhere. An exclamation point followed by text in a set of square brackets. The location (web address) of the image will need to follow with in parentheses.\n",
    "\n",
    "Style: \n",
    "![image](https://github.com/adam-p/markdown-here/raw/master/src/common/images/icon48.png)\n"
   ]
  },
  {
   "cell_type": "markdown",
   "metadata": {},
   "source": [
    "#double-click here to edit the web address in the parentheses\n",
    "\n",
    "Style: \n",
    "![image](https://github.com/adam-p/markdown-here/raw/master/src/common/images/icon48.png)"
   ]
  },
  {
   "cell_type": "markdown",
   "metadata": {},
   "source": [
    "### Code and Syntax Highlighting\n",
    "\n",
    "Code blocks are part of Markdown, but syntax highlighting isn't. However, many renderers support syntax highlighting. Which languages are supported and how those language names should be written will vary from renderer to renderer.\n",
    "\n",
    "Below, blocks of code are either fenced by lines with three back-ticks ``  ` ` ` ``, or are indented with four spaces. I recommend only using the fenced code blocks -- they're easier and only they support syntax highlighting."
   ]
  },
  {
   "cell_type": "markdown",
   "metadata": {},
   "source": [
    "Inline `code` has `back-ticks around` it."
   ]
  },
  {
   "cell_type": "markdown",
   "metadata": {},
   "source": [
    "`code here`"
   ]
  },
  {
   "cell_type": "markdown",
   "metadata": {},
   "source": [
    "Inline `code` has `back-ticks around` it."
   ]
  },
  {
   "cell_type": "markdown",
   "metadata": {},
   "source": [
    "Practice making an example below for `ls /microbiome_data`:"
   ]
  },
  {
   "cell_type": "markdown",
   "metadata": {},
   "source": [
    "#double-click here"
   ]
  },
  {
   "cell_type": "markdown",
   "metadata": {},
   "source": [
    "Below is the syntax highlighting, notice that the language is specified for syntax highlighting."
   ]
  },
  {
   "cell_type": "markdown",
   "metadata": {},
   "source": [
    "```javascript\n",
    "var s = \"JavaScript syntax highlighting\";\n",
    "alert(s);\n",
    "```\n",
    " \n",
    "```python\n",
    "s = \"Python syntax highlighting\"\n",
    "print s\n",
    "```\n",
    " \n",
    "```\n",
    "No language indicated, so no syntax highlighting. \n",
    "```"
   ]
  },
  {
   "cell_type": "code",
   "execution_count": null,
   "metadata": {},
   "outputs": [],
   "source": [
    "s = \"Python syntax highlighting\""
   ]
  },
  {
   "cell_type": "code",
   "execution_count": null,
   "metadata": {},
   "outputs": [],
   "source": [
    "print s"
   ]
  },
  {
   "cell_type": "markdown",
   "metadata": {},
   "source": [
    "```javascript\n",
    "var s = \"JavaScript syntax highlighting\";\n",
    "alert(s);\n",
    "```\n",
    " \n",
    "```python\n",
    "s = \"Python syntax highlighting\"\n",
    "print s\n",
    "```\n",
    " \n",
    "```\n",
    "No language indicated, so no syntax highlighting. \n",
    "```"
   ]
  },
  {
   "cell_type": "markdown",
   "metadata": {},
   "source": [
    "### Blockquotes\n",
    "\n",
    "> Blockquotes are very handy in email to emulate reply text.\n",
    "> This line is part of the same quote.\n",
    "\n",
    "Quote break.\n",
    "\n",
    "> This is a very long line that will still be quoted properly when it wraps. Oh boy let's keep writing to make sure this is long enough to actually wrap for everyone. Oh, you can *put* **Markdown** into a blockquote. "
   ]
  },
  {
   "cell_type": "markdown",
   "metadata": {},
   "source": [
    "> Blockquotes are very handy in email to emulate reply text.\n",
    "> This line is part of the same quote.\n",
    "\n",
    "Quote break.\n",
    "\n",
    "> This is a very long line that will still be quoted properly when it wraps. Oh boy let's keep writing to make sure this is long enough to actually wrap for everyone. Oh, you can *put* **Markdown** into a blockquote. "
   ]
  },
  {
   "cell_type": "markdown",
   "metadata": {},
   "source": [
    "Practice making an example below:"
   ]
  },
  {
   "cell_type": "markdown",
   "metadata": {},
   "source": [
    "#double-click here"
   ]
  },
  {
   "cell_type": "markdown",
   "metadata": {},
   "source": [
    "### YouTube Videos\n",
    "\n",
    "> They can't be added directly but you can add an image with a link to the videos (as we see below). Click on the two videos.\n",
    "\n",
    "<a href=\"https://www.youtube.com/watch?v=80tPR5HH9Zo&t=2s\n",
    "\" target=\"_blank\"><img src=\"http://bento.cdn.pbs.org/hostedbento-prod/blog/20171013_165656_414373_icm.jpeg\" \n",
    "alt=\"IMAGE ALT TEXT HERE\" width=\"250\" height=\"250\" border=\"10\" /></a>\n",
    "\n",
    "This is a great series on **microbes**!"
   ]
  },
  {
   "cell_type": "markdown",
   "metadata": {},
   "source": [
    "### YouTube Videos\n",
    "\n",
    "> <a href=\"https://www.youtube.com/watch?v=80tPR5HH9Zo&t=2s\n",
    "\" target=\"_blank\"><img src=\"http://bento.cdn.pbs.org/hostedbento-prod/blog/20171013_165656_414373_icm.jpeg\" \n",
    "alt=\"IMAGE ALT TEXT HERE\" width=\"500\" height=\"500\" border=\"10\" /></a>\n",
    "\n",
    "This is a great series on **microbes**!\n",
    "\n",
    "\n",
    "### Saving a Notebook\n",
    "\n",
    "Pressing Ctrl + S will save your notebook by calling the “Save and Checkpoint.\n",
    "\n",
    "When you “Save and Checkpoint,” both the notebook and checkpoint files are updated. Hence, the checkpoint enables you to recover your unsaved work in the event of an unexpected issue. You can revert to the checkpoint from the menu via “File > Revert to Checkpoint.”"
   ]
  }
 ],
 "metadata": {
  "kernelspec": {
   "display_name": "Bash",
   "language": "bash",
   "name": "bash"
  },
  "language_info": {
   "codemirror_mode": "shell",
   "file_extension": ".sh",
   "mimetype": "text/x-sh",
   "name": "bash"
  }
 },
 "nbformat": 4,
 "nbformat_minor": 2
}
